{
  "nbformat": 4,
  "nbformat_minor": 0,
  "metadata": {
    "colab": {
      "provenance": [],
      "authorship_tag": "ABX9TyOdnl3YV/9aZMQVVi/hnDY6",
      "include_colab_link": true
    },
    "kernelspec": {
      "name": "python3",
      "display_name": "Python 3"
    },
    "language_info": {
      "name": "python"
    }
  },
  "cells": [
    {
      "cell_type": "markdown",
      "metadata": {
        "id": "view-in-github",
        "colab_type": "text"
      },
      "source": [
        "<a href=\"https://colab.research.google.com/github/James56555/Python-/blob/main/pandas.ipynb\" target=\"_parent\"><img src=\"https://colab.research.google.com/assets/colab-badge.svg\" alt=\"Open In Colab\"/></a>"
      ]
    },
    {
      "cell_type": "code",
      "execution_count": null,
      "metadata": {
        "id": "mnODkBKRV1GS"
      },
      "outputs": [],
      "source": [
        "import pandas as pd\n",
        "import numpy as np"
      ]
    },
    {
      "cell_type": "code",
      "source": [
        "l = [1,2,3,4,56]\n"
      ],
      "metadata": {
        "id": "OyoNtMpGK_AK"
      },
      "execution_count": null,
      "outputs": []
    },
    {
      "cell_type": "code",
      "source": [
        "pd.Series(l)"
      ],
      "metadata": {
        "id": "tHLHPxtQLBIX"
      },
      "execution_count": null,
      "outputs": []
    },
    {
      "cell_type": "code",
      "source": [
        "pd.Series(l, index=[\"i\",\"ii\",\"iii\",\"iv\",\"v\"])"
      ],
      "metadata": {
        "id": "LHdFuLLfLFPU"
      },
      "execution_count": null,
      "outputs": []
    },
    {
      "cell_type": "code",
      "source": [
        "d = {\"name\":[\"santhosh\", \"hello\",\"rajesh\"], \"percentage\":[90,65,80]}"
      ],
      "metadata": {
        "id": "6DqmYFXYLGAW"
      },
      "execution_count": null,
      "outputs": []
    },
    {
      "cell_type": "code",
      "source": [
        "pd.DataFrame(d)"
      ],
      "metadata": {
        "id": "NRTjXZrcLIlr"
      },
      "execution_count": null,
      "outputs": []
    },
    {
      "cell_type": "code",
      "source": [
        "sd = pd.Series()"
      ],
      "metadata": {
        "id": "5qnEycTqLKqc"
      },
      "execution_count": null,
      "outputs": []
    },
    {
      "cell_type": "code",
      "source": [
        "print(sd)"
      ],
      "metadata": {
        "id": "esVjLARWLPLM"
      },
      "execution_count": null,
      "outputs": []
    },
    {
      "cell_type": "code",
      "source": [
        "l = [10,20,30,40,50]\n",
        "print(l)"
      ],
      "metadata": {
        "id": "WRP0-N9GLPv6"
      },
      "execution_count": null,
      "outputs": []
    },
    {
      "cell_type": "code",
      "source": [
        "sd = pd.Series(l)\n",
        "print(sd)"
      ],
      "metadata": {
        "id": "LKe2tDo4LT1n"
      },
      "execution_count": null,
      "outputs": []
    },
    {
      "cell_type": "code",
      "source": [
        "a = np.array([60,70,80,90,100])"
      ],
      "metadata": {
        "id": "zezpwXsWLU7o"
      },
      "execution_count": null,
      "outputs": []
    },
    {
      "cell_type": "code",
      "source": [
        "sd = pd.Series(a)\n",
        "print(sd)"
      ],
      "metadata": {
        "id": "c4DOvY2xLWxb"
      },
      "execution_count": null,
      "outputs": []
    },
    {
      "cell_type": "code",
      "source": [
        "d = {\"a\":10,\"b\":20,\"c\":30}\n",
        "print(d)"
      ],
      "metadata": {
        "id": "fg0p8R3LLwpQ"
      },
      "execution_count": null,
      "outputs": []
    },
    {
      "cell_type": "code",
      "source": [
        "sd = pd.Series(d)\n",
        "print(sd)"
      ],
      "metadata": {
        "id": "XUTpiNyoLzdT"
      },
      "execution_count": null,
      "outputs": []
    }
  ]
}