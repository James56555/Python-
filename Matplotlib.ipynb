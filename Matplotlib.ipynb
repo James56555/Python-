{
  "nbformat": 4,
  "nbformat_minor": 0,
  "metadata": {
    "colab": {
      "provenance": [],
      "authorship_tag": "ABX9TyN847A9GAcA1KfunyFrpGh7",
      "include_colab_link": true
    },
    "kernelspec": {
      "name": "python3",
      "display_name": "Python 3"
    },
    "language_info": {
      "name": "python"
    }
  },
  "cells": [
    {
      "cell_type": "markdown",
      "metadata": {
        "id": "view-in-github",
        "colab_type": "text"
      },
      "source": [
        "<a href=\"https://colab.research.google.com/github/James56555/Python-/blob/main/Matplotlib.ipynb\" target=\"_parent\"><img src=\"https://colab.research.google.com/assets/colab-badge.svg\" alt=\"Open In Colab\"/></a>"
      ]
    },
    {
      "cell_type": "code",
      "execution_count": 2,
      "metadata": {
        "id": "mPXPQL8XpxPF"
      },
      "outputs": [],
      "source": [
        "import matplotlib.pyplot as plt"
      ]
    },
    {
      "cell_type": "code",
      "source": [
        "x=[1,2,3,4,5]\n",
        "y=[1,4,9,16,25]\n",
        "\n",
        "##create a line plot\n",
        "plt.plot(x,y)\n",
        "plt.xlabel('X axis')\n",
        "plt.ylabel('Y Axis')\n",
        "plt.title(\"Basic Line Plot\")\n",
        "plt.show()"
      ],
      "metadata": {
        "id": "7ZYQFabLqCPj"
      },
      "execution_count": null,
      "outputs": []
    },
    {
      "cell_type": "code",
      "source": [
        "x=[1,2,3,4,5]\n",
        "y=[1,4,9,16,25]\n",
        "\n",
        "##create a customized line plot\n",
        "\n",
        "plt.plot(x,y,color='red',linestyle='--',marker='o',linewidth=3,markersize=9)\n",
        "plt.grid(True)"
      ],
      "metadata": {
        "id": "EFg5t20C-SRk"
      },
      "execution_count": null,
      "outputs": []
    },
    {
      "cell_type": "code",
      "source": [
        "## Multiple Plots\n",
        "## Sample data\n",
        "x = [1, 2, 3, 4, 5]\n",
        "y1 = [1, 4, 9, 16, 25]\n",
        "y2 = [1, 2, 3, 4, 5]\n",
        "\n",
        "plt.figure(figsize=(9,5))\n",
        "\n",
        "plt.subplot(2,2,1)\n",
        "plt.plot(x,y1,color='green')\n",
        "plt.title(\"Plot 1\")\n",
        "\n",
        "plt.subplot(2,2,2)\n",
        "plt.plot(y1,x,color='red')\n",
        "plt.title(\"Plot 2\")\n",
        "\n",
        "plt.subplot(2,2,3)\n",
        "plt.plot(x,y2,color='blue')\n",
        "plt.title(\"Plot 3\")\n",
        "\n",
        "plt.subplot(2,2,4)\n",
        "plt.plot(x,y2,color='green')\n",
        "plt.title(\"Plot 4\")"
      ],
      "metadata": {
        "id": "MIJQBJNP-W_o"
      },
      "execution_count": null,
      "outputs": []
    },
    {
      "cell_type": "code",
      "source": [
        "###Bar Plor\n",
        "categories=['A','B','C','D','E']\n",
        "values=[5,7,3,8,6]\n",
        "\n",
        "##create a bar plot\n",
        "plt.bar(categories,values,color='purple')\n",
        "plt.xlabel('Categories')\n",
        "plt.ylabel('Values')\n",
        "plt.title('Bar Plot')\n",
        "plt.show()"
      ],
      "metadata": {
        "id": "SfzWdcXi-eBe"
      },
      "execution_count": null,
      "outputs": []
    },
    {
      "cell_type": "code",
      "source": [
        "# Sample data\n",
        "data = [1, 2, 2, 3, 3, 3, 4, 4, 4, 4, 5, 5, 5, 5, 5]\n",
        "\n",
        "##create a histogram\n",
        "plt.hist(data,bins=6,color='orange',edgecolor='black')"
      ],
      "metadata": {
        "colab": {
          "base_uri": "https://localhost:8080/",
          "height": 501
        },
        "id": "o6m59fZ_-ezq",
        "outputId": "46bd3ae0-a592-4d31-defc-d7ac2a51145c"
      },
      "execution_count": 12,
      "outputs": [
        {
          "output_type": "execute_result",
          "data": {
            "text/plain": [
              "(array([1., 2., 0., 3., 4., 5.]),\n",
              " array([1.        , 1.66666667, 2.33333333, 3.        , 3.66666667,\n",
              "        4.33333333, 5.        ]),\n",
              " <BarContainer object of 6 artists>)"
            ]
          },
          "metadata": {},
          "execution_count": 12
        },
        {
          "output_type": "display_data",
          "data": {
            "text/plain": [
              "<Figure size 640x480 with 1 Axes>"
            ],
            "image/png": "[encoded data removed]"
          },
          "metadata": {}
        }
      ]
    },
    {
      "cell_type": "code",
      "source": [
        "##create a scatter plot\n",
        "# Sample data\n",
        "x = [1, 2, 3, 4, 5]\n",
        "y = [2, 3, 4, 5, 6]\n",
        "\n",
        "plt.scatter(x,y,color=\"blue\",marker='x')"
      ],
      "metadata": {
        "id": "VML8-wVl--fQ"
      },
      "execution_count": null,
      "outputs": []
    },
    {
      "cell_type": "code",
      "source": [
        "### pie chart\n",
        "\n",
        "labels=['A','B','C','D']\n",
        "sizes=[30,20,40,10]\n",
        "colors=['gold','yellowgreen','lightcoral','lightskyblue']\n",
        "explode=(0.2,0,0,0) ##move out the 1st slice\n",
        "\n",
        "##create apie chart\n",
        "plt.pie(sizes,explode=explode,labels=labels,colors=colors,autopct=\"%1.1f%%\",shadow=True)"
      ],
      "metadata": {
        "id": "TrmBEQbv_Bzl",
        "colab": {
          "base_uri": "https://localhost:8080/",
          "height": 620
        },
        "outputId": "da6ebbf5-90cc-4af0-ef61-411d24c16a23"
      },
      "execution_count": 14,
      "outputs": [
        {
          "output_type": "execute_result",
          "data": {
            "text/plain": [
              "([<matplotlib.patches.Wedge at 0x791964c4b070>,\n",
              "  <matplotlib.patches.Wedge at 0x791964c4afb0>,\n",
              "  <matplotlib.patches.Wedge at 0x791964c7c070>,\n",
              "  <matplotlib.patches.Wedge at 0x791964c7c940>],\n",
              " [Text(0.764120788592483, 1.051722121304293, 'A'),\n",
              "  Text(-0.8899187482945419, 0.6465637025335369, 'B'),\n",
              "  Text(-0.3399185762739153, -1.046162206115244, 'C'),\n",
              "  Text(1.0461622140716127, -0.3399185517867209, 'D')],\n",
              " [Text(0.47022817759537416, 0.6472136131103341, '30.0%'),\n",
              "  Text(-0.4854102263424773, 0.3526711104728383, '20.0%'),\n",
              "  Text(-0.1854101325130447, -0.5706339306083149, '40.0%'),\n",
              "  Text(0.5706339349481523, -0.18541011915639322, '10.0%')])"
            ]
          },
          "metadata": {},
          "execution_count": 14
        },
        {
          "output_type": "display_data",
          "data": {
            "text/plain": [
              "<Figure size 640x480 with 1 Axes>"
            ],
            "image/png": "[encoded data removed]"
          },
          "metadata": {}
        }
      ]
    }
  ]
}